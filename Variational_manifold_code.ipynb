{
 "cells": [
  {
   "cell_type": "markdown",
   "metadata": {
    "id": "HVzKsZXfgY40"
   },
   "source": [
    "## Initialization of key variables\n"
   ]
  },
  {
   "cell_type": "code",
   "execution_count": null,
   "metadata": {
    "executionInfo": {
     "elapsed": 8,
     "status": "ok",
     "timestamp": 1624484804788,
     "user": {
      "displayName": "Mathews Jacob",
      "photoUrl": "https://lh3.googleusercontent.com/a-/AOh14Gh3OKxR15mt82NeIUK13fYUzpeS0t7a2z2okhJ5RDM=s64",
      "userId": "17224366317757252073"
     },
     "user_tz": 300
    },
    "id": "SY1IfvCIWipA"
   },
   "outputs": [],
   "source": [
    "import sys\n",
    "sys.path.append('/home') # set system path\n",
    "\n",
    "import importlib\n",
    "import sigpy as sp\n",
    "import torch\n",
    "import torch.nn as nn\n",
    "from espirit.espirit import espirit, fft\n",
    "import pickle\n",
    "import tqdm\n",
    "import matplotlib.pyplot as plt\n",
    "import torch\n",
    "import torch.nn as nn\n",
    "import numpy as np\n",
    "import dataOpNewKbnufft\n",
    "from dataOpNewKbnufft import dataAndOperators\n",
    "from generator import generatorNew\n",
    "from optimize_gen_sub import optimize_generator\n",
    "from latentVariable import latentVariableNew\n",
    "from ptflops import get_model_complexity_info\n",
    "from showVideo import showImages\n",
    "from moviepy.editor import VideoClip\n",
    "from moviepy.video.io.bindings import mplfig_to_npimage\n",
    "\n",
    "gpu=torch.device('cuda:0')\n",
    "params = {'name':'parameters',\n",
    "     'directory':'',\n",
    "     'device':gpu,\n",
    "     'filename':\"\",\n",
    "     'dtype':torch.float,     \n",
    "     'fastMode':True,       #Store variables on GPU; fast, but consumes memory. Track torch.cuda.memory_allocated\n",
    "     'verbose':True,       #print messages\n",
    "     'im_size':(168,168),   #imaege size\n",
    "     'nintlPerFrame':3,    # interleaves per frame\n",
    "      'nintlvsToDelete': 0, #initial interleaves to delete to minimize transients\n",
    "     'nFramesDesired':900,  # number of frames in the reconstruction\n",
    "     'slice':(0,1,2,3,4,5,6,7,8,9),            # slice of the series to process, note that it begins with 0 in python\n",
    "     'factor':1,           # scale image by 1/factor to save compute time\n",
    "     'nBatch':5,\n",
    "     'gen_base_size': 60,   # base number of filters\n",
    "     'gen_reg': 0.0001,       # regularization penalty on generator\n",
    "     'virtual_coils': 8,      # number of virtual coils used  for reconstruction\n",
    "     'mask_size': 0.9,        # radius of the circle in the center used for coil combination; 1 selects the whole image\n",
    "     'coilEst': 'espirit',      # espirit/jsense\n",
    "     'siz_l':20} # number of latent parameters \n",
    "\n",
    "params['filename']  = '/home/data' # set data file path\n"
   ]
  },
  {
   "cell_type": "markdown",
   "metadata": {
    "id": "CwHUYFD9iYA2"
   },
   "source": [
    "## Training the network assuming latent variables to be fixed. \n",
    "\n",
    "The training proceeds in two levels.\n",
    "\n",
    "During the first round of training, the latent variables are assumed to be fixed. This approach allows the learning a good initial network, which is used in the second and final round\n",
    "\n"
   ]
  },
  {
   "cell_type": "code",
   "execution_count": null,
   "metadata": {
    "colab": {
     "base_uri": "https://localhost:8080/",
     "height": 1000
    },
    "executionInfo": {
     "elapsed": 129445,
     "status": "ok",
     "timestamp": 1624484661259,
     "user": {
      "displayName": "Mathews Jacob",
      "photoUrl": "https://lh3.googleusercontent.com/a-/AOh14Gh3OKxR15mt82NeIUK13fYUzpeS0t7a2z2okhJ5RDM=s64",
      "userId": "17224366317757252073"
     },
     "user_tz": 300
    },
    "id": "htHdOuNLIzah",
    "outputId": "9edfb07d-cbd0-4a0e-ef4c-bded08138dfd",
    "scrolled": false
   },
   "outputs": [],
   "source": [
    "import dataOpNewKbnufft\n",
    "from dataOpNewKbnufft import dataAndOperators\n",
    "importlib.reload(dataOpNewKbnufft)\n",
    "\n",
    "import optimize_gen_sub\n",
    "from optimize_gen_sub import optimize_generator\n",
    "importlib.reload(optimize_gen_sub)\n",
    "\n",
    "# Reading and pre-processing the data and parameters\n",
    "dop = dataAndOperators(params)\n",
    "\n",
    "# Initializaition of the generator\n",
    "G = generatorNew(params)\n",
    "G.weight_init()\n",
    "G.to(torch.float32).cuda(gpu)\n",
    "\n",
    "# Initialization of the latent variables\n",
    "alpha =[0.8,.15,0.2,0.1,.5,0.1,.9,0.2,0.1,.5,0.1,.9,0.2,0.1,.5,.6,.4,.2,.1,.3]\n",
    "\n",
    "alpha = torch.FloatTensor(alpha).to(gpu)\n",
    "z = latentVariableNew(params,init='ones',alpha=alpha,klreg=0)\n",
    "\n",
    "# Initial Training\n",
    "params['lr_g'] = 2e-4\n",
    "params['lr_z'] = 0e-4 #0\n",
    "\n",
    "train_epoch=30         \n",
    "\n",
    "G,z,train_hist,SER1,epoch0 = optimize_generator(dop,G,z,params,train_epoch=train_epoch) \n",
    "print(epoch0)\n",
    "G_olda = G.state_dict()\n",
    "z_olda = z.z_\n",
    "\n",
    "import  os\n",
    "pathname =  params['filename'].replace('.mat','_'+str(params['gen_base_size'])+'d/weights_onlyGenerator_'+str(params['coilEst']))\n",
    "pathname = pathname+'_'+str(train_epoch)+'_epoch'+str(params['slice'])+'_'+str(params['nintlPerFrame'])+'arms_'+str(params['siz_l'])+'latVec'+str(params['nFramesDesired'])+'frms'\n",
    "if not(os.path.exists(pathname)):\n",
    "    os.makedirs(pathname)\n",
    "path = os.path.join(pathname, 'net_{}_epoch{}_gloss_{}.pth'.format('onlyGEN'+str(params['coilEst']), train_epoch,train_hist['G_losses'][-1]))\n",
    "torch.save({'G_olda':G.state_dict(),'z_olda':z.z_}, path)\n",
    "print(path)"
   ]
  },
  {
   "cell_type": "markdown",
   "metadata": {
    "id": "4EFBQJHtzYdc"
   },
   "source": [
    "# Training with latent variables"
   ]
  },
  {
   "cell_type": "code",
   "execution_count": null,
   "metadata": {
    "colab": {
     "base_uri": "https://localhost:8080/",
     "height": 1000
    },
    "executionInfo": {
     "elapsed": 135760,
     "status": "ok",
     "timestamp": 1624484797007,
     "user": {
      "displayName": "Mathews Jacob",
      "photoUrl": "https://lh3.googleusercontent.com/a-/AOh14Gh3OKxR15mt82NeIUK13fYUzpeS0t7a2z2okhJ5RDM=s64",
      "userId": "17224366317757252073"
     },
     "user_tz": 300
    },
    "id": "GWa0Waylyl6N",
    "outputId": "5d80c916-36c1-4411-e01e-ccba54d7664f"
   },
   "outputs": [],
   "source": [
    "import matplotlib.pyplot as plt\n",
    "plt.rcParams[\"figure.figsize\"] = (10,10)\n",
    "\n",
    "import latentVariable\n",
    "from latentVariable import latentVariableNew\n",
    "importlib.reload(latentVariable)\n",
    "\n",
    "import optimize_gen_sub\n",
    "from optimize_gen_sub import optimize_generator\n",
    "importlib.reload(optimize_gen_sub)\n",
    "\n",
    "torch.cuda.empty_cache()\n",
    "\n",
    "checkpoint = torch.load(path)\n",
    "\n",
    "G1 = generatorNew(params)\n",
    "G1.to(torch.float32).cuda(gpu)\n",
    "G1.load_state_dict(checkpoint['G_olda']) #G_oldi\n",
    "\n",
    "z.z_ = checkpoint['z_olda'] #z_oldi\n",
    "\n",
    "# Final training\n",
    "\n",
    "params['lr_g'] = 2e-4\n",
    "params['lr_z'] = 4e-3   #4e-3\n",
    "alpha = [0.8,.15,0.2,0.1,.5,0.1,.9,0.2,0.1,.5,0.1,.9,0.2,0.1,.5,.6,.4,.2,.1,.3]\n",
    "\n",
    "alpha = torch.FloatTensor(alpha).to(gpu)\n",
    "z1 = latentVariableNew(params,z_in=z,alpha=alpha,klreg=0.000)\n",
    "\n",
    "final_epoch=80\n",
    "G1,z1,train_hist,SER1,epoch1 = optimize_generator(dop,G1,z1,params,train_epoch=final_epoch) \n",
    "print(epoch1)"
   ]
  },
  {
   "cell_type": "code",
   "execution_count": null,
   "metadata": {
    "colab": {
     "base_uri": "https://localhost:8080/",
     "height": 557
    },
    "executionInfo": {
     "elapsed": 7789,
     "status": "ok",
     "timestamp": 1624484804786,
     "user": {
      "displayName": "Mathews Jacob",
      "photoUrl": "https://lh3.googleusercontent.com/a-/AOh14Gh3OKxR15mt82NeIUK13fYUzpeS0t7a2z2okhJ5RDM=s64",
      "userId": "17224366317757252073"
     },
     "user_tz": 300
    },
    "id": "wQKyQVVtUIRN",
    "outputId": "8850a19e-b124-4f8c-912f-289f0e02b21e"
   },
   "outputs": [],
   "source": [
    "#train_epoch=30\n",
    "final_epoch=         epoch1\n",
    "import imageio\n",
    "from matplotlib.transforms import Bbox\n",
    "import  os\n",
    "\n",
    "im_size = params[\"im_size\"]\n",
    "\n",
    "if isinstance(params['slice'], int):\n",
    "    nsl = 1\n",
    "else:\n",
    "    nsl = len(params['slice'])\n",
    "\n",
    "TR=6.00e-3\n",
    "frames_per_second = 1./(params['nintlPerFrame']*TR);\n",
    "my_dpi = 100 # Good default - doesn't really matter  \n",
    "\n",
    "images = np.zeros((params[\"nFramesDesired\"],im_size[0],im_size[1]*nsl))\n",
    "\n",
    "for i in range(params[\"nFramesDesired\"]):\n",
    "    image =  G1(z1.z_[i:i+1,:,:,:,7]).squeeze(0).squeeze(0).detach().abs().cpu().numpy()\n",
    "    temp = image[...,0]\n",
    "    for j in np.arange(1,nsl):\n",
    "        #print(j)\n",
    "        temp = np.concatenate((temp,image[...,j]),axis=1) \n",
    "    images[i] = temp\n",
    "maxval = np.max(images)\n",
    "\n",
    "gifs_tobe=[]\n",
    "dirname =  params['filename'].replace('.mat','_'+str(params['gen_base_size'])+'d/results_'+str(params['coilEst']))\n",
    "dirname = dirname+'_'+str(params['slice'])+'_'+str(params['nintlPerFrame'])+'arms_'+str(params['siz_l'])+'latVec'+str(params['nFramesDesired'])+'frms'+'_'+str(train_epoch)+'_Geph'+str(final_epoch)+'_feph_Sl5KL0.00zR1'\n",
    "dn=dirname\n",
    "if not(os.path.exists(dirname)):\n",
    "    os.makedirs(dirname)\n",
    "\n",
    "for k in range(params[\"nFramesDesired\"]):\n",
    "    image1=images[k]\n",
    "    fig, ax = plt.subplots(1, figsize=((im_size[1]*nsl)/my_dpi, im_size[0]/my_dpi), dpi=my_dpi)\n",
    "    ax.set_position([0,0,1,1])\n",
    "    plt.imshow((image1), cmap='gray')\n",
    "    ax.axis('off')\n",
    "    img_name = dirname+'/frame_' + str(k) + '.png'\n",
    "    fig.savefig(img_name,bbox_inches=Bbox([[0,0],[(im_size[1]*nsl)/my_dpi,im_size[0]/my_dpi]]),dpi=my_dpi)\n",
    "    plt.close()\n",
    "    gifs_tobe.append(imageio.imread(img_name))\n",
    "imageio.mimsave(dn+'_'+str(train_epoch)+'_Gepoch'+'.gif', gifs_tobe, fps=frames_per_second)\n",
    "print('Frame rate= %.4f fps; TR=%f sec; Narms= %d.' %(frames_per_second, TR, params['nintlPerFrame']))\n",
    "print('\\nResults saved in %s' %dirname)\n",
    "#\n",
    "np.save(dn, images)\n",
    "#"
   ]
  },
  {
   "cell_type": "code",
   "execution_count": null,
   "metadata": {},
   "outputs": [],
   "source": [
    "import numpy as np\n",
    "import matplotlib.pyplot as plt\n",
    "siz_l=params['siz_l']\n",
    "nsl = len(params['slice'])\n",
    "legendstring = np.array2string(np.arange(siz_l))\n",
    "legendstring = legendstring[1:-1]\n",
    "fig,ax = plt.subplots(nsl,1)\n",
    "fig.set_figheight(20)\n",
    "fig.set_figwidth(15)\n",
    "lat_vec=np.zeros((params[\"nFramesDesired\"],params[\"siz_l\"],nsl))\n",
    "\n",
    "if(nsl==1):\n",
    "            ax = np.expand_dims(ax,0)                \n",
    "for sl in range(nsl):\n",
    "             \n",
    "              \n",
    "              #ax[sl,0].imshow(abs(test_image1),cmap='gray')\n",
    "              temp = z1.z_[...,sl].data.squeeze().cpu().numpy()\n",
    "              #print(temp.shape)\n",
    "              lat_vec[...,sl] = temp\n",
    "              ax[sl].plot(temp[...,0:siz_l])\n",
    "              ax[sl].legend(legendstring,loc='best')          \n",
    "plt.pause(0.00001)\n",
    "np.save(dirname+'_latent_vectors', lat_vec)\n",
    "print(lat_vec.shape)"
   ]
  }
 ],
 "metadata": {
  "accelerator": "GPU",
  "colab": {
   "collapsed_sections": [],
   "machine_shape": "hm",
   "name": "gen_STORM.ipynb",
   "provenance": [
    {
     "file_id": "1YFr29hEMlQxiZFxb1Hwd_B01wa5bLj8J",
     "timestamp": 1624460286676
    },
    {
     "file_id": "/v2/external/notebooks/basic_features_overview.ipynb",
     "timestamp": 1623688727671
    }
   ]
  },
  "kernelspec": {
   "display_name": "Python 3.9",
   "language": "python",
   "name": "py39"
  },
  "language_info": {
   "codemirror_mode": {
    "name": "ipython",
    "version": 3
   },
   "file_extension": ".py",
   "mimetype": "text/x-python",
   "name": "python",
   "nbconvert_exporter": "python",
   "pygments_lexer": "ipython3",
   "version": "3.9.10"
  },
  "widgets": {
   "application/vnd.jupyter.widget-state+json": {
    "state": {},
    "version_major": 2,
    "version_minor": 0
   }
  }
 },
 "nbformat": 4,
 "nbformat_minor": 4
}
